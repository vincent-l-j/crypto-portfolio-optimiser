{
 "cells": [
  {
   "cell_type": "markdown",
   "metadata": {},
   "source": [
    "# Crypto Portfolio Analysis Dashboard\n",
    "\n",
    "This notebook creates a Panel dashboard that allows users to their own crypto portfolio and visually analyse it."
   ]
  },
  {
   "cell_type": "code",
   "execution_count": null,
   "metadata": {},
   "outputs": [],
   "source": [
    "# imports\n",
    "import panel as pn\n",
    "pn.extension('plotly')\n",
    "import plotly.express as px\n",
    "import pandas as pd\n",
    "import hvplot.pandas\n",
    "import matplotlib.pyplot as plt\n",
    "from binance import Client"
   ]
  },
  {
   "cell_type": "code",
   "execution_count": null,
   "metadata": {},
   "outputs": [],
   "source": [
    "# Initialize the Panel Extensions (for Plotly)\n",
    "import panel as pn\n",
    "pn.extension(\"plotly\")\n",
    "\n",
    "# Import panel.interact\n",
    "from panel.interact import interact"
   ]
  },
  {
   "cell_type": "markdown",
   "metadata": {},
   "source": [
    "# Import Data"
   ]
  },
  {
   "cell_type": "code",
   "execution_count": null,
   "metadata": {},
   "outputs": [],
   "source": []
  },
  {
   "cell_type": "markdown",
   "metadata": {},
   "source": [
    "- - -"
   ]
  },
  {
   "cell_type": "markdown",
   "metadata": {},
   "source": [
    "## Panel Visualisations\n",
    "\n",
    "In this section, you will copy the code for each plot type from your analysis notebook and place it into separate functions that Panel can use to create panes for the dashboard. \n",
    "\n",
    "These functions will convert the plot object to a Panel pane.\n",
    "\n",
    "Be sure to include any DataFrame transformation/manipulation code required along with the plotting code.\n",
    "\n",
    "Return a plot object from each function that can be shown on the panel to build the dashboard.\n",
    "\n",
    "Note: Remove any `.show()` lines from the code. We want to return the plots instead of showing them. The Panel dashboard will then display the plots."
   ]
  },
  {
   "cell_type": "markdown",
   "metadata": {},
   "source": [
    "### Panel Visualisation Functions"
   ]
  },
  {
   "cell_type": "code",
   "execution_count": null,
   "metadata": {},
   "outputs": [],
   "source": [
    "# Define Panel visualisation functions\n"
   ]
  },
  {
   "cell_type": "markdown",
   "metadata": {},
   "source": [
    "## Panel Dashboard\n",
    "\n",
    "In this section, you will combine all of the plots into a single dashboard view using Panel. Be creative with your dashboard design!"
   ]
  },
  {
   "cell_type": "code",
   "execution_count": null,
   "metadata": {},
   "outputs": [],
   "source": [
    "# Create a Title for the Dashboard\n",
    "dashboard_title = 'Crypto Portfolio Analysis'\n",
    "\n",
    "# Define a welcome text\n",
    "welcome_text = (\n",
    "    'This dashboard presents a visual analysis of historical performance of cryptocurrencies.'\n",
    "    'You can navigate through the tabs above to explore more details about '\n",
    "    'possible portfolios and Montecarlo simulations.'\n",
    ")\n",
    "\n",
    "# Create a tab layout for the dashboard\n",
    "# Welcome Tab\n",
    "tab_welcome = pn.Column(\n",
    "    welcome_text,\n",
    "    # Visualisation\n",
    ")\n",
    "\n",
    "# Historical Performance Tab\n",
    "tab_historical_performance = pn.Column(\n",
    "    # Visualisation ideas:\n",
    "    # Daily Returns\n",
    "    # Cumulative Daily Returns\n",
    "    # Risk Analysis box plot\n",
    "    # Std Dev bar plots - Calculate std dev (and annual) and determine which are riskier than the market\n",
    "    # Rolling statistics\n",
    "    # Plot correlation\n",
    "    # Beta between crypto pairs\n",
    "    # Exponentially weighted moving avg\n",
    "    # Sharpe Ratios\n",
    "    # Custom Portfolio\n",
    "    # Efficient Frontier\n",
    ")\n",
    "\n",
    "# Portfolio Forecasting Tab\n",
    "tab_portfolio_forecasting = pn.Column(\n",
    "    # Visualisation\n",
    "    # Montecarlo Simulations\n",
    ")\n",
    "\n",
    "# Summary Tab\n",
    "tab_summary = pn.Column(\n",
    "    # Visualisation\n",
    ")\n",
    "\n",
    "# Create the main dashboard\n",
    "dashboard = pn.Column(\n",
    "    '# ' + dashboard_title,\n",
    "    pn.Tabs(\n",
    "        (\"Welcome\", tab_welcome),\n",
    "        (\"Historical Performance\", tab_historical_performance),\n",
    "        (\"Portfolio Forecasting\", tab_portfolio_forecasting),\n",
    "        (\"Summary\", tab_summary),\n",
    "    )\n",
    ")\n"
   ]
  },
  {
   "cell_type": "markdown",
   "metadata": {},
   "source": [
    "## Serve the Panel Dashboard"
   ]
  },
  {
   "cell_type": "code",
   "execution_count": null,
   "metadata": {},
   "outputs": [],
   "source": [
    "dashboard.servable()"
   ]
  }
 ],
 "metadata": {
  "file_extension": ".py",
  "interpreter": {
   "hash": "9b40c136f6a553a5f7fe572d835b5412d355ca545b0f8ff0e27aed83532e4418"
  },
  "kernelspec": {
   "display_name": "Python [conda env:pyvizenv25] *",
   "language": "python",
   "name": "python3"
  },
  "language_info": {
   "codemirror_mode": {
    "name": "ipython",
    "version": 3
   },
   "file_extension": ".py",
   "mimetype": "text/x-python",
   "name": "python",
   "nbconvert_exporter": "python",
   "pygments_lexer": "ipython3",
   "version": "3.7.11"
  },
  "mimetype": "text/x-python",
  "name": "python",
  "npconvert_exporter": "python",
  "pygments_lexer": "ipython3",
  "version": 3
 },
 "nbformat": 4,
 "nbformat_minor": 4
}
