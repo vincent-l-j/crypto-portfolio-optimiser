{
 "cells": [
  {
   "cell_type": "markdown",
   "metadata": {},
   "source": [
    "# Crypto Portfolio Analysis"
   ]
  },
  {
   "cell_type": "code",
   "execution_count": null,
   "metadata": {},
   "outputs": [],
   "source": [
    "# imports\n",
    "import panel as pn\n",
    "pn.extension('plotly')\n",
    "import plotly.express as px\n",
    "import pandas as pd\n",
    "import hvplot.pandas\n",
    "import matplotlib.pyplot as plt\n",
    "from binance import Client"
   ]
  },
  {
   "cell_type": "code",
   "execution_count": null,
   "metadata": {},
   "outputs": [],
   "source": [
    "# Initialize the Panel Extensions (for Plotly)\n",
    "import panel as pn\n",
    "pn.extension(\"plotly\")\n",
    "\n",
    "# Import panel.interact\n",
    "from panel.interact import interact\n",
    "\n",
    "# for merging the dataframes\n",
    "from functools import reduce"
   ]
  },
  {
   "cell_type": "markdown",
   "metadata": {},
   "source": [
    "## Instantiate the Binance API Client"
   ]
  },
  {
   "cell_type": "code",
   "execution_count": null,
   "metadata": {},
   "outputs": [],
   "source": [
    "# Pulling price data doesn't require an api key as it is publicly available\n",
    "# https://python-binance.readthedocs.io/en/latest/\n",
    "# https://binance-docs.github.io/apidocs/spot/en/#compressed-aggregate-trades-list\n",
    "client = Client()"
   ]
  },
  {
   "cell_type": "markdown",
   "metadata": {},
   "source": [
    "## Get list of all cryptocurrencies traded on the Binance exchange\n"
   ]
  },
  {
   "cell_type": "code",
   "execution_count": null,
   "metadata": {},
   "outputs": [],
   "source": [
    "exchange_info = client.get_exchange_info()\n",
    "symbols = exchange_info['symbols']\n",
    "# Ensure no duplicates by using sets\n",
    "coin_set = {s['baseAsset'] for s in symbols} | {s['quoteAsset'] for s in symbols}\n",
    "coin_list = sorted(coin_set)"
   ]
  },
  {
   "cell_type": "markdown",
   "metadata": {},
   "source": [
    "## Create a DataFrame of the closing prices and dates for each chosen cryptocurrency in the portfolio"
   ]
  },
  {
   "cell_type": "code",
   "execution_count": null,
   "metadata": {},
   "outputs": [],
   "source": [
    "def get_historical_data(currency):\n",
    "    klines = client.get_historical_klines(currency + 'USDT', Client.KLINE_INTERVAL_1DAY, \"1 year ago UTC\")\n",
    "    # klines columns=['Open Time', 'Open', 'High', 'Low', 'Close', 'Volume', 'Close Time', 'Quote asset volume', 'Number of trades', 'Taker buy base asset volume', 'Taker buy quote asset volume', 'Ignore'])\n",
    "    cols_ohlcv = ('open', 'high', 'low', 'close', 'volume')\n",
    "    df = pd.DataFrame((x[:6] for x in klines), columns=['timestamp', *cols_ohlcv])\n",
    "    df[[*cols_ohlcv]] = df[[*cols_ohlcv]].astype(float)\n",
    "    df['timestamp'] = pd.to_datetime(df['timestamp'], unit='ms')\n",
    "    df.set_index('timestamp', inplace=True)\n",
    "    df.columns = pd.MultiIndex.from_product([[currency], cols_ohlcv])\n",
    "\n",
    "    return df\n",
    "\n",
    "# Chosen cryptocurrenies\n",
    "crypto_portfolio = ('BTC', 'ETH', 'SOL')\n",
    "# Global dataframes\n",
    "df_ohlcv = reduce(lambda left,right: pd.merge(left,right,left_index=True, right_index=True, how='outer'), map(get_historical_data, crypto_portfolio))\n",
    "df_close = df_ohlcv[pd.MultiIndex.from_product([crypto_portfolio, ['close']])].droplevel(1, axis=1)\n",
    "df_daily_returns = df_close.pct_change().dropna()\n",
    "\n",
    "df_daily_returns.head()"
   ]
  },
  {
   "cell_type": "markdown",
   "metadata": {},
   "source": [
    "- - -"
   ]
  },
  {
   "cell_type": "markdown",
   "metadata": {},
   "source": [
    "## Panel Visualisation"
   ]
  },
  {
   "cell_type": "code",
   "execution_count": null,
   "metadata": {},
   "outputs": [],
   "source": [
    "# Make your plot here\n"
   ]
  }
 ],
 "metadata": {
  "file_extension": ".py",
  "interpreter": {
   "hash": "9b40c136f6a553a5f7fe572d835b5412d355ca545b0f8ff0e27aed83532e4418"
  },
  "kernelspec": {
   "display_name": "Python [conda env:pyvizenv25] *",
   "language": "python",
   "name": "python3"
  },
  "language_info": {
   "codemirror_mode": {
    "name": "ipython",
    "version": 3
   },
   "file_extension": ".py",
   "mimetype": "text/x-python",
   "name": "python",
   "nbconvert_exporter": "python",
   "pygments_lexer": "ipython3",
   "version": "3.7.11"
  },
  "mimetype": "text/x-python",
  "name": "python",
  "npconvert_exporter": "python",
  "pygments_lexer": "ipython3",
  "version": 3
 },
 "nbformat": 4,
 "nbformat_minor": 4
}
