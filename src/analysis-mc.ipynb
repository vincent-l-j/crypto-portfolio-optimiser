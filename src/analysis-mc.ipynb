{
 "cells": [
  {
   "cell_type": "markdown",
   "metadata": {},
   "source": [
    "# Crypto Portfolio Analysis"
   ]
  },
  {
   "cell_type": "code",
   "execution_count": 25,
   "metadata": {},
   "outputs": [],
   "source": [
    "# imports\n",
    "import panel as pn\n",
    "pn.extension('plotly')\n",
    "import plotly.express as px\n",
    "import pandas as pd\n",
    "import hvplot.pandas\n",
    "import matplotlib.pyplot as plt\n",
    "from binance import Client"
   ]
  },
  {
   "cell_type": "code",
   "execution_count": 26,
   "metadata": {},
   "outputs": [],
   "source": [
    "# Initialize the Panel Extensions (for Plotly)\n",
    "import panel as pn\n",
    "pn.extension(\"plotly\")\n",
    "\n",
    "# Import panel.interact\n",
    "from panel.interact import interact\n",
    "\n",
    "# for merging the dataframes\n",
    "from functools import reduce"
   ]
  },
  {
   "cell_type": "markdown",
   "metadata": {},
   "source": [
    "## Instantiate the Binance API Client"
   ]
  },
  {
   "cell_type": "code",
   "execution_count": 27,
   "metadata": {},
   "outputs": [],
   "source": [
    "# Pulling price data doesn't require an api key as it is publicly available\n",
    "# https://python-binance.readthedocs.io/en/latest/\n",
    "# https://binance-docs.github.io/apidocs/spot/en/#compressed-aggregate-trades-list\n",
    "client = Client()"
   ]
  },
  {
   "cell_type": "markdown",
   "metadata": {},
   "source": [
    "## Get list of all cryptocurrencies traded on the Binance exchange\n"
   ]
  },
  {
   "cell_type": "code",
   "execution_count": 28,
   "metadata": {},
   "outputs": [],
   "source": [
    "exchange_info = client.get_exchange_info()\n",
    "symbols = exchange_info['symbols']\n",
    "# Ensure no duplicates by using sets\n",
    "coin_set = {s['baseAsset'] for s in symbols} | {s['quoteAsset'] for s in symbols}\n",
    "coin_list = sorted(coin_set)\n",
    "#coin_list"
   ]
  },
  {
   "cell_type": "markdown",
   "metadata": {},
   "source": [
    "## Create a DataFrame of the closing prices and dates for each chosen cryptocurrency in the portfolio"
   ]
  },
  {
   "cell_type": "code",
   "execution_count": 29,
   "metadata": {},
   "outputs": [
    {
     "data": {
      "text/html": [
       "<div>\n",
       "<style scoped>\n",
       "    .dataframe tbody tr th:only-of-type {\n",
       "        vertical-align: middle;\n",
       "    }\n",
       "\n",
       "    .dataframe tbody tr th {\n",
       "        vertical-align: top;\n",
       "    }\n",
       "\n",
       "    .dataframe thead th {\n",
       "        text-align: right;\n",
       "    }\n",
       "</style>\n",
       "<table border=\"1\" class=\"dataframe\">\n",
       "  <thead>\n",
       "    <tr style=\"text-align: right;\">\n",
       "      <th></th>\n",
       "      <th>BTC</th>\n",
       "      <th>ETH</th>\n",
       "      <th>SOL</th>\n",
       "    </tr>\n",
       "    <tr>\n",
       "      <th>timestamp</th>\n",
       "      <th></th>\n",
       "      <th></th>\n",
       "      <th></th>\n",
       "    </tr>\n",
       "  </thead>\n",
       "  <tbody>\n",
       "    <tr>\n",
       "      <th>2021-01-11</th>\n",
       "      <td>35404.47000000</td>\n",
       "      <td>1087.01000000</td>\n",
       "      <td>3.10160000</td>\n",
       "    </tr>\n",
       "    <tr>\n",
       "      <th>2021-01-12</th>\n",
       "      <td>34051.24000000</td>\n",
       "      <td>1050.16000000</td>\n",
       "      <td>3.63540000</td>\n",
       "    </tr>\n",
       "    <tr>\n",
       "      <th>2021-01-13</th>\n",
       "      <td>37371.38000000</td>\n",
       "      <td>1129.89000000</td>\n",
       "      <td>3.52420000</td>\n",
       "    </tr>\n",
       "    <tr>\n",
       "      <th>2021-01-14</th>\n",
       "      <td>39144.50000000</td>\n",
       "      <td>1231.62000000</td>\n",
       "      <td>3.29210000</td>\n",
       "    </tr>\n",
       "    <tr>\n",
       "      <th>2021-01-15</th>\n",
       "      <td>36742.22000000</td>\n",
       "      <td>1168.53000000</td>\n",
       "      <td>3.24750000</td>\n",
       "    </tr>\n",
       "  </tbody>\n",
       "</table>\n",
       "</div>"
      ],
      "text/plain": [
       "                       BTC            ETH         SOL\n",
       "timestamp                                            \n",
       "2021-01-11  35404.47000000  1087.01000000  3.10160000\n",
       "2021-01-12  34051.24000000  1050.16000000  3.63540000\n",
       "2021-01-13  37371.38000000  1129.89000000  3.52420000\n",
       "2021-01-14  39144.50000000  1231.62000000  3.29210000\n",
       "2021-01-15  36742.22000000  1168.53000000  3.24750000"
      ]
     },
     "execution_count": 29,
     "metadata": {},
     "output_type": "execute_result"
    }
   ],
   "source": [
    "def get_historical_data(currency):\n",
    "    klines = client.get_historical_klines(currency + 'USDT', Client.KLINE_INTERVAL_1DAY, \"1 year ago UTC\")\n",
    "    # klines columns=['Open Time', 'Open', 'High', 'Low', 'Close', 'Volume', 'Close Time', 'Quote asset volume', 'Number of trades', 'Taker buy base asset volume', 'Taker buy quote asset volume', 'Ignore'])\n",
    "    df = pd.DataFrame(((x[0], x[4]) for x in klines), columns=['timestamp', currency])\n",
    "    df['timestamp'] = pd.to_datetime(df['timestamp'], unit='ms')\n",
    "    df.set_index('timestamp', inplace=True)\n",
    "\n",
    "    return df\n",
    "\n",
    "# Chosen cryptocurrenies\n",
    "crypto_portfolio = ('BTC', 'ETH', 'SOL')\n",
    "# Global dataframe\n",
    "df = reduce(lambda left,right: pd.merge(left,right,left_index=True, right_index=True, how='outer'), map(get_historical_data, crypto_portfolio))\n",
    "df.head()"
   ]
  },
  {
   "cell_type": "markdown",
   "metadata": {},
   "source": [
    "- - -"
   ]
  },
  {
   "cell_type": "markdown",
   "metadata": {},
   "source": [
    "## Panel Visualisation"
   ]
  },
  {
   "cell_type": "code",
   "execution_count": 10,
   "metadata": {},
   "outputs": [],
   "source": [
    "# Monte Carlo Simulation Imports\n",
    "from MCForecastTools import MCSimulation\n"
   ]
  },
  {
   "cell_type": "code",
   "execution_count": 17,
   "metadata": {},
   "outputs": [
    {
     "data": {
      "text/html": [
       "<div>\n",
       "<style scoped>\n",
       "    .dataframe tbody tr th:only-of-type {\n",
       "        vertical-align: middle;\n",
       "    }\n",
       "\n",
       "    .dataframe tbody tr th {\n",
       "        vertical-align: top;\n",
       "    }\n",
       "\n",
       "    .dataframe thead th {\n",
       "        text-align: right;\n",
       "    }\n",
       "</style>\n",
       "<table border=\"1\" class=\"dataframe\">\n",
       "  <thead>\n",
       "    <tr style=\"text-align: right;\">\n",
       "      <th></th>\n",
       "      <th>BTC</th>\n",
       "      <th>ETH</th>\n",
       "      <th>SOL</th>\n",
       "    </tr>\n",
       "  </thead>\n",
       "  <tbody>\n",
       "    <tr>\n",
       "      <th>2021-01-11</th>\n",
       "      <td>35404.47000000</td>\n",
       "      <td>1087.01000000</td>\n",
       "      <td>3.10160000</td>\n",
       "    </tr>\n",
       "    <tr>\n",
       "      <th>2021-01-12</th>\n",
       "      <td>34051.24000000</td>\n",
       "      <td>1050.16000000</td>\n",
       "      <td>3.63540000</td>\n",
       "    </tr>\n",
       "    <tr>\n",
       "      <th>2021-01-13</th>\n",
       "      <td>37371.38000000</td>\n",
       "      <td>1129.89000000</td>\n",
       "      <td>3.52420000</td>\n",
       "    </tr>\n",
       "    <tr>\n",
       "      <th>2021-01-14</th>\n",
       "      <td>39144.50000000</td>\n",
       "      <td>1231.62000000</td>\n",
       "      <td>3.29210000</td>\n",
       "    </tr>\n",
       "    <tr>\n",
       "      <th>2021-01-15</th>\n",
       "      <td>36742.22000000</td>\n",
       "      <td>1168.53000000</td>\n",
       "      <td>3.24750000</td>\n",
       "    </tr>\n",
       "  </tbody>\n",
       "</table>\n",
       "</div>"
      ],
      "text/plain": [
       "                       BTC            ETH         SOL\n",
       "2021-01-11  35404.47000000  1087.01000000  3.10160000\n",
       "2021-01-12  34051.24000000  1050.16000000  3.63540000\n",
       "2021-01-13  37371.38000000  1129.89000000  3.52420000\n",
       "2021-01-14  39144.50000000  1231.62000000  3.29210000\n",
       "2021-01-15  36742.22000000  1168.53000000  3.24750000"
      ]
     },
     "execution_count": 17,
     "metadata": {},
     "output_type": "execute_result"
    }
   ],
   "source": [
    "# Monte Carlo Simulation   \n",
    "\n",
    "start_date = pd.Timestamp('2021-01-01', tz='America/New_York').isoformat()\n",
    "end_date = pd.Timestamp('2021-12-31', tz='America/New_York').isoformat()\n",
    "\n",
    "# Set date as index\n",
    "df.index = df.index\n",
    "df.head()"
   ]
  },
  {
   "cell_type": "code",
   "execution_count": null,
   "metadata": {},
   "outputs": [],
   "source": [
    "# Configuring a Monte Carlo simulation to forecast 10 years cumulative returns\n",
    "\n",
    "?MCSimulation\n",
    "\n",
    "MC_traditional_dist = MCSimulation(\n",
    "    portfolio_data = df,\n",
    "    weights = [.60,.20,.20],\n",
    "    num_simulation = 100,\n",
    "    num_trading_days = 365*10\n",
    ")\n"
   ]
  },
  {
   "cell_type": "code",
   "execution_count": null,
   "metadata": {},
   "outputs": [],
   "source": [
    "# Printing the simulation input data\n",
    "MC_traditional_dist.portfolio_data.head()"
   ]
  },
  {
   "cell_type": "code",
   "execution_count": null,
   "metadata": {},
   "outputs": [],
   "source": [
    "# Plot simulation outcomes\n",
    "\n",
    "line_plot = MC_traditional_dist.plot_simulation()"
   ]
  },
  {
   "cell_type": "code",
   "execution_count": null,
   "metadata": {},
   "outputs": [],
   "source": [
    "# Plot probability distribution and confidence intervals\n",
    "dist_plot = MC_traditional_dist.plot_distribution()"
   ]
  },
  {
   "cell_type": "code",
   "execution_count": null,
   "metadata": {},
   "outputs": [],
   "source": [
    "# Fetch summary statistics from the Monte Carlo simulation results\n",
    "traditional_tbl = MC_traditional_dist.summarize_cumulative_return()\n",
    "\n",
    "# Print summary statistics\n",
    "print(traditional_tbl)"
   ]
  },
  {
   "cell_type": "code",
   "execution_count": null,
   "metadata": {},
   "outputs": [],
   "source": [
    "# Set initial investment\n",
    "initial_investment = 20000\n",
    "\n",
    "# Use the lower and upper `95%` confidence intervals to calculate the range of the possible outcomes of our $20,000\n",
    "## rounded to 2 decimal places\n",
    "\n",
    "ci_lower = round(traditional_tbl[8]*20000,2)\n",
    "ci_upper = round(traditional_tbl[9]*20000,2)\n",
    "\n",
    "# Print results\n",
    "print(f\"There is a 95% chance that an initial investment of ${initial_investment} in the portfolio\"\n",
    "      f\" over the next 10 years will end within in the range of\"\n",
    "      f\" ${ci_lower} and ${ci_upper}\")"
   ]
  },
  {
   "cell_type": "code",
   "execution_count": null,
   "metadata": {},
   "outputs": [],
   "source": [
    "# Function for Monte Carlo Simulation\n",
    "\n",
    "def \n"
   ]
  }
 ],
 "metadata": {
  "file_extension": ".py",
  "interpreter": {
   "hash": "9b40c136f6a553a5f7fe572d835b5412d355ca545b0f8ff0e27aed83532e4418"
  },
  "kernelspec": {
   "display_name": "Python 3",
   "language": "python",
   "name": "python3"
  },
  "language_info": {
   "codemirror_mode": {
    "name": "ipython",
    "version": 3
   },
   "file_extension": ".py",
   "mimetype": "text/x-python",
   "name": "python",
   "nbconvert_exporter": "python",
   "pygments_lexer": "ipython3",
   "version": "3.7.11"
  },
  "mimetype": "text/x-python",
  "name": "python",
  "npconvert_exporter": "python",
  "pygments_lexer": "ipython3",
  "version": 3
 },
 "nbformat": 4,
 "nbformat_minor": 4
}
